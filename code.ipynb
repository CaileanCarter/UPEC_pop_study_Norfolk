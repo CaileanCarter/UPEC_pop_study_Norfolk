{
 "cells": [
  {
   "attachments": {},
   "cell_type": "markdown",
   "metadata": {},
   "source": [
    "# UPEC population structure and antimicrobial susceptibility in Norfolk, UK"
   ]
  },
  {
   "attachments": {},
   "cell_type": "markdown",
   "metadata": {},
   "source": [
    "### Globals"
   ]
  },
  {
   "cell_type": "code",
   "execution_count": 6,
   "metadata": {},
   "outputs": [],
   "source": [
    "import glob\n",
    "import re\n",
    "from os import listdir, path, rename, system\n",
    "\n",
    "import matplotlib.pyplot as plt\n",
    "import numpy as np\n",
    "import pandas as pd\n",
    "import seaborn as sns\n",
    "from Bio import SeqIO\n",
    "from scipy.stats import chi2_contingency, fisher_exact, hypergeom\n",
    "from statsmodels.stats.multitest import fdrcorrection\n",
    "\n",
    "\n",
    "def rename_isolate(i):\n",
    "    if i == \"Reference\":\n",
    "        return i\n",
    "    try:\n",
    "        return re.search(\"GL\\d+\", i).group(0)\n",
    "    except AttributeError:\n",
    "        *_, GL = i.split(\"-\")\n",
    "        GL = \"GL\" + GL\n",
    "        return rename_isolate(GL)\n",
    "\n",
    "metadata = pd.read_excel('../Table S1.xlsx')"
   ]
  },
  {
   "attachments": {},
   "cell_type": "markdown",
   "metadata": {},
   "source": [
    "### Phylogroups"
   ]
  },
  {
   "cell_type": "code",
   "execution_count": 7,
   "metadata": {},
   "outputs": [
    {
     "data": {
      "text/plain": [
       "(B2    152\n",
       " D      28\n",
       " B1     19\n",
       " A       6\n",
       " F       6\n",
       " E       2\n",
       " C       2\n",
       " G       2\n",
       " Name: phylogroup, dtype: int64,\n",
       " B2    70.0\n",
       " D     12.9\n",
       " B1     8.8\n",
       " A      2.8\n",
       " F      2.8\n",
       " E      0.9\n",
       " C      0.9\n",
       " G      0.9\n",
       " Name: phylogroup, dtype: float64)"
      ]
     },
     "execution_count": 7,
     "metadata": {},
     "output_type": "execute_result"
    }
   ],
   "source": [
    "phylogroups = metadata['phylogroup']\n",
    "phylogroups.value_counts(),phylogroups.value_counts(normalize=True).mul(100).round(1)"
   ]
  },
  {
   "attachments": {},
   "cell_type": "markdown",
   "metadata": {},
   "source": [
    "### Sequence types"
   ]
  },
  {
   "cell_type": "code",
   "execution_count": 8,
   "metadata": {},
   "outputs": [],
   "source": [
    "st = metadata[['ID','ST']]\n",
    "st = st.fillna(0)\n",
    "st['ST'] = st['ST'].astype('int32')"
   ]
  },
  {
   "cell_type": "code",
   "execution_count": 9,
   "metadata": {},
   "outputs": [
    {
     "data": {
      "text/plain": [
       "73      28\n",
       "12      20\n",
       "69      19\n",
       "131     18\n",
       "404     14\n",
       "        ..\n",
       "372      1\n",
       "108      1\n",
       "3177     1\n",
       "357      1\n",
       "104      1\n",
       "Name: ST, Length: 75, dtype: int64"
      ]
     },
     "execution_count": 9,
     "metadata": {},
     "output_type": "execute_result"
    }
   ],
   "source": [
    "st['ST'].value_counts()"
   ]
  },
  {
   "cell_type": "code",
   "execution_count": 13,
   "metadata": {},
   "outputs": [
    {
     "data": {
      "text/plain": [
       "'57.1%'"
      ]
     },
     "execution_count": 13,
     "metadata": {},
     "output_type": "execute_result"
    }
   ],
   "source": [
    "str(round(st['ST'].value_counts()[:8].sum() / 217 * 100,1)) + '%'"
   ]
  },
  {
   "cell_type": "code",
   "execution_count": 11,
   "metadata": {},
   "outputs": [
    {
     "data": {
      "text/plain": [
       "(73      28\n",
       " 12      20\n",
       " 69      19\n",
       " 131     18\n",
       " 404     14\n",
       " 95      12\n",
       " 127      7\n",
       " 1193     6\n",
       " Name: ST, dtype: int64,\n",
       " 73      12.9\n",
       " 12       9.2\n",
       " 69       8.8\n",
       " 131      8.3\n",
       " 404      6.5\n",
       " 95       5.5\n",
       " 127      3.2\n",
       " 1193     2.8\n",
       " Name: ST, dtype: float64)"
      ]
     },
     "execution_count": 11,
     "metadata": {},
     "output_type": "execute_result"
    }
   ],
   "source": [
    "st['ST'].value_counts()[:8], st['ST'].value_counts(normalize=True).mul(100).round(1)[:8]"
   ]
  },
  {
   "attachments": {},
   "cell_type": "markdown",
   "metadata": {},
   "source": [
    "### Core genome alignment summary"
   ]
  },
  {
   "cell_type": "code",
   "execution_count": 16,
   "metadata": {},
   "outputs": [
    {
     "data": {
      "text/plain": [
       "count    217.000000\n",
       "mean       0.843964\n",
       "std        0.055073\n",
       "min        0.728436\n",
       "25%        0.782479\n",
       "50%        0.858270\n",
       "75%        0.890677\n",
       "max        0.941170\n",
       "dtype: float64"
      ]
     },
     "execution_count": 16,
     "metadata": {},
     "output_type": "execute_result"
    }
   ],
   "source": [
    "# core alignment summary\n",
    "ca = pd.read_csv('core_alignment_summary.txt', delimiter='\\t')\n",
    "ca = ca[:-1]\n",
    "(ca['ALIGNED'] / ca['LENGTH']).describe()"
   ]
  },
  {
   "attachments": {},
   "cell_type": "markdown",
   "metadata": {},
   "source": [
    "### AMR rates"
   ]
  },
  {
   "cell_type": "code",
   "execution_count": 14,
   "metadata": {},
   "outputs": [
    {
     "data": {
      "text/html": [
       "<div>\n",
       "<style scoped>\n",
       "    .dataframe tbody tr th:only-of-type {\n",
       "        vertical-align: middle;\n",
       "    }\n",
       "\n",
       "    .dataframe tbody tr th {\n",
       "        vertical-align: top;\n",
       "    }\n",
       "\n",
       "    .dataframe thead th {\n",
       "        text-align: right;\n",
       "    }\n",
       "</style>\n",
       "<table border=\"1\" class=\"dataframe\">\n",
       "  <thead>\n",
       "    <tr style=\"text-align: right;\">\n",
       "      <th></th>\n",
       "      <th>ABX</th>\n",
       "      <th>Overall</th>\n",
       "      <th>Community</th>\n",
       "      <th>Hospital</th>\n",
       "    </tr>\n",
       "  </thead>\n",
       "  <tbody>\n",
       "    <tr>\n",
       "      <th>0</th>\n",
       "      <td>AMP</td>\n",
       "      <td>39.2</td>\n",
       "      <td>27.6</td>\n",
       "      <td>52.1</td>\n",
       "    </tr>\n",
       "    <tr>\n",
       "      <th>1</th>\n",
       "      <td>AUG</td>\n",
       "      <td>7.6</td>\n",
       "      <td>4.8</td>\n",
       "      <td>10.9</td>\n",
       "    </tr>\n",
       "    <tr>\n",
       "      <th>2</th>\n",
       "      <td>CLX</td>\n",
       "      <td>6.0</td>\n",
       "      <td>1.9</td>\n",
       "      <td>10.6</td>\n",
       "    </tr>\n",
       "    <tr>\n",
       "      <th>3</th>\n",
       "      <td>CIP</td>\n",
       "      <td>9.0</td>\n",
       "      <td>7.6</td>\n",
       "      <td>10.6</td>\n",
       "    </tr>\n",
       "    <tr>\n",
       "      <th>4</th>\n",
       "      <td>GEN</td>\n",
       "      <td>7.0</td>\n",
       "      <td>1.0</td>\n",
       "      <td>13.8</td>\n",
       "    </tr>\n",
       "    <tr>\n",
       "      <th>5</th>\n",
       "      <td>NIT</td>\n",
       "      <td>1.0</td>\n",
       "      <td>0.0</td>\n",
       "      <td>2.1</td>\n",
       "    </tr>\n",
       "    <tr>\n",
       "      <th>6</th>\n",
       "      <td>TRI</td>\n",
       "      <td>25.1</td>\n",
       "      <td>15.2</td>\n",
       "      <td>36.2</td>\n",
       "    </tr>\n",
       "  </tbody>\n",
       "</table>\n",
       "</div>"
      ],
      "text/plain": [
       "   ABX  Overall  Community  Hospital\n",
       "0  AMP     39.2       27.6      52.1\n",
       "1  AUG      7.6        4.8      10.9\n",
       "2  CLX      6.0        1.9      10.6\n",
       "3  CIP      9.0        7.6      10.6\n",
       "4  GEN      7.0        1.0      13.8\n",
       "5  NIT      1.0        0.0       2.1\n",
       "6  TRI     25.1       15.2      36.2"
      ]
     },
     "execution_count": 14,
     "metadata": {},
     "output_type": "execute_result"
    }
   ],
   "source": [
    "amr = metadata[['ID', 'Source', 'AMP', 'AUG', 'CLX', 'CIP', 'GEN', 'NIT', 'TRI']]\n",
    "amr = amr.iloc[18:,1:]\n",
    "\n",
    "rx_rates = {\n",
    "    \"ABX\" : [],\n",
    "    \"Overall\" : [],\n",
    "    \"Community\" : [],\n",
    "    \"Hospital\" : []\n",
    "    }\n",
    "\n",
    "for col in amr.columns[1:]:\n",
    "    rx_rates['ABX'].append(col)\n",
    "    rx_rates['Overall'].append(amr.loc[:,col].value_counts(normalize=True)['R'].round(3) * 100)\n",
    "    rx_rates['Hospital'].append(amr.loc[amr[\"Source\"]=='Hospital',col].value_counts(normalize=True)['R'].round(3) * 100)\n",
    "    try:\n",
    "        rx_rates['Community'].append(amr.loc[amr[\"Source\"]=='Community',col].value_counts(normalize=True)['R'].round(3) * 100)\n",
    "    except KeyError:\n",
    "        rx_rates['Community'].append(0)\n",
    "\n",
    "pd.DataFrame(rx_rates)\n"
   ]
  },
  {
   "attachments": {},
   "cell_type": "markdown",
   "metadata": {},
   "source": [
    "### Relationship between antibiotic resistance and source"
   ]
  },
  {
   "cell_type": "code",
   "execution_count": 26,
   "metadata": {},
   "outputs": [
    {
     "data": {
      "text/html": [
       "<div>\n",
       "<style scoped>\n",
       "    .dataframe tbody tr th:only-of-type {\n",
       "        vertical-align: middle;\n",
       "    }\n",
       "\n",
       "    .dataframe tbody tr th {\n",
       "        vertical-align: top;\n",
       "    }\n",
       "\n",
       "    .dataframe thead th {\n",
       "        text-align: right;\n",
       "    }\n",
       "</style>\n",
       "<table border=\"1\" class=\"dataframe\">\n",
       "  <thead>\n",
       "    <tr style=\"text-align: right;\">\n",
       "      <th></th>\n",
       "      <th>Pheno</th>\n",
       "      <th>res_com</th>\n",
       "      <th>res_hosp</th>\n",
       "      <th>sens_com</th>\n",
       "      <th>sens_hosp</th>\n",
       "      <th>chi2</th>\n",
       "      <th>p_chi</th>\n",
       "      <th>dof</th>\n",
       "    </tr>\n",
       "  </thead>\n",
       "  <tbody>\n",
       "    <tr>\n",
       "      <th>0</th>\n",
       "      <td>AMP</td>\n",
       "      <td>29</td>\n",
       "      <td>49</td>\n",
       "      <td>76</td>\n",
       "      <td>45</td>\n",
       "      <td>12.500509</td>\n",
       "      <td>0.000407</td>\n",
       "      <td>1</td>\n",
       "    </tr>\n",
       "    <tr>\n",
       "      <th>1</th>\n",
       "      <td>AUG</td>\n",
       "      <td>5</td>\n",
       "      <td>10</td>\n",
       "      <td>100</td>\n",
       "      <td>82</td>\n",
       "      <td>2.600342</td>\n",
       "      <td>0.106841</td>\n",
       "      <td>1</td>\n",
       "    </tr>\n",
       "    <tr>\n",
       "      <th>2</th>\n",
       "      <td>CLX</td>\n",
       "      <td>2</td>\n",
       "      <td>10</td>\n",
       "      <td>103</td>\n",
       "      <td>84</td>\n",
       "      <td>6.676173</td>\n",
       "      <td>0.009771</td>\n",
       "      <td>1</td>\n",
       "    </tr>\n",
       "    <tr>\n",
       "      <th>3</th>\n",
       "      <td>CIP</td>\n",
       "      <td>8</td>\n",
       "      <td>10</td>\n",
       "      <td>97</td>\n",
       "      <td>84</td>\n",
       "      <td>0.549563</td>\n",
       "      <td>0.458496</td>\n",
       "      <td>1</td>\n",
       "    </tr>\n",
       "    <tr>\n",
       "      <th>4</th>\n",
       "      <td>GEN</td>\n",
       "      <td>1</td>\n",
       "      <td>13</td>\n",
       "      <td>104</td>\n",
       "      <td>81</td>\n",
       "      <td>12.575558</td>\n",
       "      <td>0.000391</td>\n",
       "      <td>1</td>\n",
       "    </tr>\n",
       "    <tr>\n",
       "      <th>5</th>\n",
       "      <td>NIT</td>\n",
       "      <td>0</td>\n",
       "      <td>2</td>\n",
       "      <td>105</td>\n",
       "      <td>92</td>\n",
       "      <td>2.256723</td>\n",
       "      <td>0.133035</td>\n",
       "      <td>1</td>\n",
       "    </tr>\n",
       "    <tr>\n",
       "      <th>6</th>\n",
       "      <td>TRI</td>\n",
       "      <td>16</td>\n",
       "      <td>34</td>\n",
       "      <td>89</td>\n",
       "      <td>60</td>\n",
       "      <td>11.551551</td>\n",
       "      <td>0.000677</td>\n",
       "      <td>1</td>\n",
       "    </tr>\n",
       "  </tbody>\n",
       "</table>\n",
       "</div>"
      ],
      "text/plain": [
       "  Pheno  res_com  res_hosp  sens_com  sens_hosp       chi2     p_chi  dof\n",
       "0   AMP       29        49        76         45  12.500509  0.000407    1\n",
       "1   AUG        5        10       100         82   2.600342  0.106841    1\n",
       "2   CLX        2        10       103         84   6.676173  0.009771    1\n",
       "3   CIP        8        10        97         84   0.549563  0.458496    1\n",
       "4   GEN        1        13       104         81  12.575558  0.000391    1\n",
       "5   NIT        0         2       105         92   2.256723  0.133035    1\n",
       "6   TRI       16        34        89         60  11.551551  0.000677    1"
      ]
     },
     "execution_count": 26,
     "metadata": {},
     "output_type": "execute_result"
    }
   ],
   "source": [
    "amr = metadata[['ID', 'Source', 'AMP', 'AUG', 'CLX', 'CIP', 'GEN', 'NIT', 'TRI']]\n",
    "\n",
    "def build_matrix_and_text(pheno):\n",
    "    res_com = len(amr[(amr[pheno] == 'R') & (amr['Source']=='Community')])\n",
    "    res_hosp = len(amr[(amr[pheno]== 'R') & (amr['Source']=='Hospital')])\n",
    "    sens_com = len(amr[(amr[pheno] == 'S') & (amr['Source']=='Community')])\n",
    "    sens_hosp = len(amr[(amr[pheno] == 'S') & (amr['Source']=='Hospital')])\n",
    "    table = np.array([[res_com, res_hosp], [sens_com, sens_hosp]])\n",
    "    chi2, p_chi, dof, _ = chi2_contingency(table, correction=False)\n",
    "    return res_com, res_hosp, sens_com, sens_hosp, chi2, p_chi, dof\n",
    "\n",
    "data = []\n",
    "for r in ['AMP', 'AUG',\t'CLX', 'CIP', 'GEN', 'NIT', 'TRI']:\n",
    "    result = build_matrix_and_text(r)\n",
    "    data.append([r]+list(result))\n",
    "\n",
    "pd.DataFrame(data, columns=['Pheno', \"res_com\", 'res_hosp', 'sens_com', 'sens_hosp', 'chi2', 'p_chi', 'dof'])\n"
   ]
  },
  {
   "attachments": {},
   "cell_type": "markdown",
   "metadata": {},
   "source": [
    "### AMR determinants associated with phenotypic resistance"
   ]
  },
  {
   "cell_type": "code",
   "execution_count": 27,
   "metadata": {},
   "outputs": [],
   "source": [
    "gene_pheno = pd.read_csv(\"gene_name_assoc.csv\", index_col=0)\n",
    "\n",
    "gene_pres_abs = pd.read_excel(\"AMR_genes_pres_abs.xlsx\", index_col=0)\n",
    "gene_pres_abs = gene_pres_abs.append(pd.Series(name='GL234', data=[0]*81, index=gene_pres_abs.columns, dtype=int))\n",
    "\n",
    "amr = metadata[['ID', 'AMP', 'AUG', 'CLX', 'CIP', 'GEN', 'NIT', 'TRI']]\n",
    "amr.index = amr['ID']\n",
    "amr = amr.drop(columns='ID')"
   ]
  },
  {
   "cell_type": "code",
   "execution_count": 30,
   "metadata": {},
   "outputs": [],
   "source": [
    "pheno_genes = {pheno : [] for pheno in amr.columns[1:]}\n",
    "for gene, pheno1, pheno2, pheno3 in gene_pheno.itertuples():\n",
    "    pheno_genes[pheno1].append(gene)\n",
    "    if not isinstance(pheno2, float):\n",
    "        pheno_genes[pheno2].append(gene)\n",
    "    if not isinstance(pheno3, float):\n",
    "        pheno_genes[pheno3].append(gene)"
   ]
  },
  {
   "cell_type": "code",
   "execution_count": 63,
   "metadata": {},
   "outputs": [],
   "source": [
    "def build_matrix_and_text(pheno, geno):\n",
    "    res_gene = len(amr[(amr[pheno] == 'R') & (amr.index.isin(gene_pres_abs[gene_pres_abs[geno]==1].index))])\n",
    "    res_no_gene = len(amr[(amr[pheno]== 'R') & (~amr.index.isin(gene_pres_abs[gene_pres_abs[geno]==1].index))])\n",
    "    sens_gene = len(amr[(amr[pheno] == 'S') & (amr.index.isin(gene_pres_abs[gene_pres_abs[geno]==1].index))])\n",
    "    sens_no_gene = len(amr[(amr[pheno] == 'S') & (~amr.index.isin(gene_pres_abs[gene_pres_abs[geno]==1].index))])\n",
    "    table = np.array([[res_gene, res_no_gene], [sens_gene, sens_no_gene]])\n",
    "    oddsr, p_fisher = fisher_exact(table, alternative='two-sided')\n",
    "    chi2, p_chi, dof, _ = chi2_contingency(table, correction=False)\n",
    "    return res_gene, res_no_gene, sens_gene, sens_no_gene, oddsr, p_fisher, chi2, p_chi, dof\n",
    "\n",
    "def get_cramer_assoc(p):\n",
    "    phi2 = p / 217\n",
    "    cramer_assoc = np.sqrt(phi2)\n",
    "    return cramer_assoc"
   ]
  },
  {
   "cell_type": "code",
   "execution_count": 72,
   "metadata": {},
   "outputs": [],
   "source": [
    "gene_pheno_assoc = {\n",
    "    \"gene\" : [],\n",
    "    \"pheno\" : [],\n",
    "    \"gene_pres_pheno_pos\" : [],\n",
    "    \"gene_abs_pheno_pos\" : [],\n",
    "    \"gene_pres_pheno_neg\" : [],\n",
    "    \"gene_abs_pheno_neg\" : [],\n",
    "    \"oddsr\" : [],\n",
    "    \"p-value\" : [],\n",
    "    \"chi2\" : [],\n",
    "    \"p_chi\" : [],\n",
    "    \"dof\" : []\n",
    "    }\n",
    "for pheno,genes in pheno_genes.items():\n",
    "    for gene in genes:\n",
    "        result = build_matrix_and_text(pheno, gene)\n",
    "        gene_pheno_assoc[\"gene\"].append(gene)\n",
    "        gene_pheno_assoc[\"pheno\"].append(pheno)\n",
    "        for key, val in zip(list(gene_pheno_assoc.keys())[2:], result):\n",
    "            gene_pheno_assoc[key].append(val)"
   ]
  },
  {
   "cell_type": "code",
   "execution_count": 74,
   "metadata": {},
   "outputs": [],
   "source": [
    "fet = pd.DataFrame(gene_pheno_assoc)\n",
    "fet['cramer_assoc'] = fet['chi2'].apply(get_cramer_assoc)\n",
    "\n",
    "p_value_corr = fdrcorrection(fet['p-value'])\n",
    "fet = fet.assign(H0=p_value_corr[0], p_corrected=p_value_corr[1])\n",
    "\n",
    "p_value_corr = fdrcorrection(fet['p_chi'])\n",
    "fet = fet.assign(H0_chi=p_value_corr[0], p_chi_corrected=p_value_corr[1])\n",
    "\n",
    "fet[(fet['H0']) & (fet['H0_chi'])].sort_values(by=['pheno', 'cramer_assoc'], ascending=False)\n"
   ]
  },
  {
   "attachments": {},
   "cell_type": "markdown",
   "metadata": {},
   "source": [
    "### Nitrofurantoin resistance determinants"
   ]
  },
  {
   "cell_type": "code",
   "execution_count": 79,
   "metadata": {},
   "outputs": [],
   "source": [
    "columns = ['qaccver', 'saccver', 'pident', 'length', 'mismatch', 'gapopen', 'qstart', 'qend', 'sstart', 'send', 'evalue', 'bitscore', 'sallseqid', 'score', 'nident', 'positive', 'gaps', 'ppos', 'qframe', 'sframe', 'qseq', 'sseq', 'qlen', 'slen', 'salltitles']\n",
    "blastp = pd.read_csv('NIT_blastp_search.tabular', delimiter='\\t', names=columns)\n",
    "gpa = pd.read_csv('gene_presence_absence.csv')\n",
    "ID_key_dict = gpa.filter(like='GL').iloc[0].to_dict()"
   ]
  },
  {
   "cell_type": "code",
   "execution_count": 96,
   "metadata": {},
   "outputs": [],
   "source": [
    "NIT_seqs = []\n",
    "directory = r\"NITREc_Seq\"\n",
    "for f in listdir(directory):\n",
    "    if f.endswith('.faa'):\n",
    "        with open(rf\"NITREc_Seq\\{f}\") as handle:\n",
    "            for record in SeqIO.parse(handle, 'fasta'):\n",
    "                NIT_seqs.append({\n",
    "                    \"gene\" : f.replace('.faa', ''),\n",
    "                    \"description\" : record.description,\n",
    "                    \"seq\" : str(record.seq)\n",
    "                })"
   ]
  },
  {
   "cell_type": "code",
   "execution_count": 95,
   "metadata": {},
   "outputs": [],
   "source": [
    "def fetch_gene_info(seq):\n",
    "    for dic in NIT_seqs:\n",
    "        if seq == dic['seq']:\n",
    "            return dic['gene'], dic['description']\n",
    "            \n",
    "def rename_value(value):\n",
    "    return re.search('[A-Z]*', value).group(0)"
   ]
  },
  {
   "cell_type": "code",
   "execution_count": 89,
   "metadata": {},
   "outputs": [],
   "source": [
    "map_rename = lambda x : mapped_IDs[rename_value(x)]\n",
    "mapped_IDs = {rename_value(v) : k for k,v in ID_key_dict.items()}\n",
    "blastp = blastp.drop(blastp[blastp['saccver'].str.startswith('HNPKFMLJ')].index)\n",
    "blastp[\"isolate\"] = blastp['saccver'].map(map_rename)\n",
    "blastp[['gene', 'description']] = pd.DataFrame(blastp['qseq'].map(fetch_gene_info).to_list(), index=blastp.index)\n",
    "blastp = blastp[(blastp['ppos'] == 100) & (blastp['pident'] == 100) & (blastp['qlen'] == blastp['slen'])]\n"
   ]
  },
  {
   "cell_type": "code",
   "execution_count": 94,
   "metadata": {},
   "outputs": [
    {
     "name": "stdout",
     "output_type": "stream",
     "text": [
      "      isolate                                        description     gene\n",
      "1342    GL116  NfsA nfsA|IN09|2|287989-288480|-|ICL2020_00865...  NfsA__R\n",
      "5150     GL14  NfsA nfsA|EC958|NZ_HG941718.1|900522-901244|+|...  NfsA__S\n",
      "10266     GL4  NfsB nfsB|IN06|1|705493-705774|+|ICL2020_00712...  NfsB__R\n",
      "10619   GL160  NfsB nfsB|IN07|2|122188-122619|+|ICL2020_00466...  NfsB__R\n",
      "15019    GL14  NfsB nfsB|ATCC25922|NZ_CP009072.1|4640270-4640...  NfsB__S\n",
      "18477    GL14  RibE ribE|ATCC25922|NZ_CP009072.1|4779388-4779...  RibE__S\n",
      "18479    GL13  RibE ribE|ATCC25922|NZ_CP009072.1|4779388-4779...  RibE__S\n",
      "18484    GL12  RibE ribE|ATCC25922|NZ_CP009072.1|4779388-4779...  RibE__S\n",
      "18488     GL3  RibE ribE|ATCC25922|NZ_CP009072.1|4779388-4779...  RibE__S\n",
      "18489    GL11  RibE ribE|ATCC25922|NZ_CP009072.1|4779388-4779...  RibE__S\n",
      "18494     GL2  RibE ribE|ATCC25922|NZ_CP009072.1|4779388-4779...  RibE__S\n",
      "18498     GL5  RibE ribE|ATCC25922|NZ_CP009072.1|4779388-4779...  RibE__S\n",
      "18501     GL4  RibE ribE|ATCC25922|NZ_CP009072.1|4779388-4779...  RibE__S\n",
      "18539   GL160  RibE ribE|ATCC25922|NZ_CP009072.1|4779388-4779...  RibE__S\n",
      "18602   GL116  RibE ribE|ATCC25922|NZ_CP009072.1|4779388-4779...  RibE__S\n",
      "18689     GL1  RibE ribE|UTI89|NC_007946.1|448891-449361|+|UT...  RibE__S\n"
     ]
    }
   ],
   "source": [
    "with pd.option_context('display.max_rows', None, 'display.max_columns', None):\n",
    "    print(blastp[blastp['isolate'].isin(amr[amr['NIT']=='R'].index)][['isolate', 'description', 'gene']])"
   ]
  },
  {
   "cell_type": "code",
   "execution_count": null,
   "metadata": {},
   "outputs": [],
   "source": []
  }
 ],
 "metadata": {
  "kernelspec": {
   "display_name": "Python 3",
   "language": "python",
   "name": "python3"
  },
  "language_info": {
   "codemirror_mode": {
    "name": "ipython",
    "version": 3
   },
   "file_extension": ".py",
   "mimetype": "text/x-python",
   "name": "python",
   "nbconvert_exporter": "python",
   "pygments_lexer": "ipython3",
   "version": "3.8.2"
  },
  "orig_nbformat": 4,
  "vscode": {
   "interpreter": {
    "hash": "86ac97f5aa0aa7efa4e154d9a1a31a60e75f86ffa61201e677a1a795af44ce38"
   }
  }
 },
 "nbformat": 4,
 "nbformat_minor": 2
}
